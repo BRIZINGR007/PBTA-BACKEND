{
 "cells": [
  {
   "cell_type": "code",
   "execution_count": 1,
   "id": "87a450aa",
   "metadata": {},
   "outputs": [],
   "source": [
    "from enum import StrEnum\n",
    "\n",
    "\n",
    "class Categories(StrEnum):\n",
    "    SALARY = \"Salary\"\n",
    "    GROCERY = \"Grocery\"\n",
    "    ENTERTAINMENT = \"Entertainment\"\n"
   ]
  },
  {
   "cell_type": "code",
   "execution_count": 4,
   "id": "52f77187",
   "metadata": {},
   "outputs": [
    {
     "name": "stdout",
     "output_type": "stream",
     "text": [
      "['Salary', 'Grocery', 'Entertainment']\n"
     ]
    }
   ],
   "source": [
    "list_of_values = [category.value for category in Categories]\n",
    "print(list_of_values)\n"
   ]
  },
  {
   "cell_type": "code",
   "execution_count": null,
   "id": "eed074ab",
   "metadata": {},
   "outputs": [],
   "source": []
  }
 ],
 "metadata": {
  "kernelspec": {
   "display_name": "Python 3",
   "language": "python",
   "name": "python3"
  },
  "language_info": {
   "codemirror_mode": {
    "name": "ipython",
    "version": 3
   },
   "file_extension": ".py",
   "mimetype": "text/x-python",
   "name": "python",
   "nbconvert_exporter": "python",
   "pygments_lexer": "ipython3",
   "version": "3.11.11"
  }
 },
 "nbformat": 4,
 "nbformat_minor": 5
}
